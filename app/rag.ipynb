{
 "cells": [
  {
   "cell_type": "code",
   "execution_count": 12,
   "metadata": {},
   "outputs": [
    {
     "name": "stderr",
     "output_type": "stream",
     "text": [
      "Ignoring wrong pointing object 13 0 (offset 0)\n",
      "Ignoring wrong pointing object 15 0 (offset 0)\n",
      "Ignoring wrong pointing object 19 0 (offset 0)\n",
      "Ignoring wrong pointing object 20 0 (offset 0)\n"
     ]
    }
   ],
   "source": [
    "# RAG Setup: loaders, splitter, embeddings, vector store\n",
    "from langchain_community.document_loaders import PyPDFLoader\n",
    "from langchain.text_splitter import RecursiveCharacterTextSplitter\n",
    "from langchain_community.vectorstores import FAISS\n",
    "from langchain_community.embeddings import HuggingFaceEmbeddings\n",
    "\n",
    "# 1) Load your PDFs\n",
    "pdf_paths = [\n",
    "    \"../query6_data/Asset allocation.pdf\"\n",
    "]\n",
    "\n",
    "docs = []\n",
    "for p in pdf_paths:\n",
    "    loader = PyPDFLoader(p)\n",
    "    # Each page comes with metadata; loader returns Document objects\n",
    "    docs.extend(loader.load())\n",
    "\n",
    "# 2) Split into chunks (keep overlaps for context continuity)\n",
    "splitter = RecursiveCharacterTextSplitter(\n",
    "    chunk_size=900, chunk_overlap=150, separators=[\"\\n\\n\", \"\\n\", \" \", \"\"]\n",
    ")\n",
    "splits = splitter.split_documents(docs)\n",
    "\n",
    "# 3) Embeddings (no API key needed)\n",
    "embeddings = HuggingFaceEmbeddings(model_name=\"sentence-transformers/all-MiniLM-L6-v2\")\n",
    "\n",
    "# 4) Build FAISS index\n",
    "vecstore = FAISS.from_documents(splits, embeddings)\n",
    "\n",
    "# 5) Create a retriever (top_k configurable inside the tool)\n",
    "retriever = vecstore.as_retriever(search_type=\"similarity\", search_kwargs={\"k\": 6})\n"
   ]
  },
  {
   "cell_type": "code",
   "execution_count": 13,
   "metadata": {},
   "outputs": [
    {
     "name": "stdout",
     "output_type": "stream",
     "text": [
      "Recommended Asset Allocation (General Rule of Thumb)\n",
      "This is based on the age-old 100 minus age rule, adjusted for your goal rather than your age.\n",
      "Why Equity Should Dominate\n",
      "Pros:\n",
      "• Historically, Indian equity returns average 12–15% p.a. over 10 years.\n",
      "• Ideal for longer horizons: gives you time to ride out market volatility.\n",
      "• Helps build a bigger corpus faster than debt instruments.\n",
      "How to Invest:\n",
      "• SIP in diversiﬁed equity mutual funds (e.g. large-cap, ﬂexi-cap, ELSS if tax saving).\n",
      "• Consider index funds or ETFs if you want lower cost.\n",
      "Why Debt Still Matters\n",
      "Role:\n",
      "• Adds stability to your portfolio.\n",
      "• Helps protect capital as you near the goal.\n",
      "• Rebalances volatility during market downturns.\n",
      "How to Invest:\n",
      "• Debt mutual funds (short-term, target maturity funds).\n",
      "• PPF, EPF (if available), ﬁxed deposits for part of the amount.\n",
      "Glide Path Strategy (Dynamic Rebalancing)\n",
      "\n",
      "This ensures your house down payment is protected from late-stage market crashes.\n",
      "Quick Illustration (₹10,000/month SIP)\n",
      "*Assuming 12% CAGR for equity and 6% CAGR for debt.\n",
      "Years Left to \n",
      "Goal Equity Debt\n",
      "10–7 years 70% 30%\n",
      "6–4 years 60% 40%\n",
      "3 years left 40% 60%\n",
      "1–2 years left 20–\n",
      "30%\n",
      "70–\n",
      "80%\n",
      "Asset Class Monthly \n",
      "Allocation\n",
      "Expected 10Y \n",
      "Corpus\n",
      "Equity \n",
      "(70%) ₹7,000/month ₹17–18 lakhs*\n",
      "Debt (30%) ₹3,000/month ₹5–5.5 lakhs*\n",
      "Total ₹10,000/month ₹22–23 lakhs\n",
      "\n",
      "• PPF, EPF (if available), ﬁxed deposits for part of the amount.\n",
      "Glide Path Strategy (Dynamic Rebalancing)\n",
      "As the goal approaches, gradually reduce equity exposure:\n",
      "Asset \n",
      "Class\n",
      "Suggested \n",
      "Allocation Why\n",
      "Equity 60–70% Higher growth potential over 10 years, can beat \n",
      "inﬂation\n",
      "Debt 30–40% Reduces volatility, provides stability\n"
     ]
    }
   ],
   "source": [
    "# Define your query\n",
    "query = \"Should I allocate more to equity or debt in my portfolio if I’m planning to buy a house in 10 years?\"\n",
    "\n",
    "# Search for relevant chunks\n",
    "retrieved_docs = vecstore.similarity_search(query, k=3)\n",
    "\n",
    "# Combine retrieved content\n",
    "context = \"\\n\\n\".join([doc.page_content for doc in retrieved_docs])\n",
    "\n",
    "print(context)\n"
   ]
  },
  {
   "cell_type": "code",
   "execution_count": null,
   "metadata": {},
   "outputs": [],
   "source": []
  }
 ],
 "metadata": {
  "kernelspec": {
   "display_name": "test_env",
   "language": "python",
   "name": "python3"
  },
  "language_info": {
   "codemirror_mode": {
    "name": "ipython",
    "version": 3
   },
   "file_extension": ".py",
   "mimetype": "text/x-python",
   "name": "python",
   "nbconvert_exporter": "python",
   "pygments_lexer": "ipython3",
   "version": "3.9.23"
  }
 },
 "nbformat": 4,
 "nbformat_minor": 2
}
