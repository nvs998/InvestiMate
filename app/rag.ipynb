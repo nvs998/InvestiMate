{
 "cells": [
  {
   "cell_type": "code",
   "execution_count": null,
   "metadata": {},
   "outputs": [],
   "source": [
    "# # RAG Setup: loaders, splitter, embeddings, vector store\n",
    "from langchain_community.document_loaders import PyPDFLoader\n",
    "from langchain.text_splitter import RecursiveCharacterTextSplitter\n",
    "from langchain_community.vectorstores import FAISS\n",
    "from langchain_community.embeddings import HuggingFaceEmbeddings\n",
    "\n",
    "# # 1) Load your PDFs\n",
    "# pdf_paths = [\n",
    "#     \"../query6_data/Asset allocation.pdf\"\n",
    "# ]\n",
    "\n",
    "# docs = []\n",
    "# for p in pdf_paths:\n",
    "#     loader = PyPDFLoader(p)\n",
    "#     # Each page comes with metadata; loader returns Document objects\n",
    "#     docs.extend(loader.load())\n",
    "\n",
    "# # 2) Split into chunks (keep overlaps for context continuity)\n",
    "# splitter = RecursiveCharacterTextSplitter(\n",
    "#     chunk_size=900, chunk_overlap=150, separators=[\"\\n\\n\", \"\\n\", \" \", \"\"]\n",
    "# )\n",
    "# splits = splitter.split_documents(docs)\n",
    "\n",
    "# # 3) Embeddings (no API key needed)\n",
    "# embeddings = HuggingFaceEmbeddings(model_name=\"sentence-transformers/all-MiniLM-L6-v2\")\n",
    "\n",
    "# # 4) Build FAISS index\n",
    "# vecstore = FAISS.from_documents(splits, embeddings)\n",
    "\n",
    "# # 5) Create a retriever (top_k configurable inside the tool)\n",
    "# retriever = vecstore.as_retriever(search_type=\"similarity\", search_kwargs={\"k\": 6})\n"
   ]
  },
  {
   "cell_type": "code",
   "execution_count": 35,
   "metadata": {},
   "outputs": [],
   "source": [
    "def faiss_score_to_cosine(distance: float) -> float:\n",
    "    \"\"\"\n",
    "    Convert FAISS L2 distance to cosine similarity.\n",
    "    Works if embeddings were normalized to unit length.\n",
    "    \"\"\"\n",
    "    return 1 - (distance ** 2) / 2"
   ]
  },
  {
   "cell_type": "code",
   "execution_count": 100,
   "metadata": {},
   "outputs": [],
   "source": [
    "# 1) Load your PDFs\n",
    "pdf_paths = [\n",
    "    \"../query1_data/Gold ETF vs Physical Gold.pdf\",\n",
    "    \"../query1_data/Sovereign Gold Bond Scheme 2025-26.pdf\"\n",
    "]\n",
    "\n",
    "docs = []\n",
    "for p in pdf_paths:\n",
    "    loader = PyPDFLoader(p)\n",
    "    # Each page comes with metadata; loader returns Document objects\n",
    "    docs.extend(loader.load())\n",
    "\n",
    "# 2) Split into chunks (keep overlaps for context continuity)\n",
    "splitter = RecursiveCharacterTextSplitter(\n",
    "    chunk_size=500, chunk_overlap=150, separators=[\"\\n\\n\", \"\\n\", \" \", \"\"]\n",
    ")\n",
    "splits = splitter.split_documents(docs)\n",
    "\n",
    "# 3) Embeddings (no API key needed)\n",
    "embeddings = HuggingFaceEmbeddings(\n",
    "    model_name=\"intfloat/e5-base-v2\",\n",
    "    encode_kwargs={\"normalize_embeddings\": True}\n",
    ")\n",
    "\n",
    "# 4) Build FAISS index\n",
    "vecstore = FAISS.from_documents(splits, embeddings)\n",
    "\n",
    "# 5) Create a retriever (top_k configurable inside the tool)\n",
    "retriever = vecstore.as_retriever(search_type=\"similarity\", search_kwargs={\"k\": 6})\n",
    "\n",
    "# Define your query\n",
    "query = \"What are the benefits of Sovereign Gold Bonds compared to physical gold?\"\n",
    "\n",
    "# Search for relevant chunks\n",
    "retrieved_docs = vecstore.similarity_search(query, k=5)\n",
    "\n",
    "# Combine retrieved content\n",
    "# context = \"\\n\\n\".join([doc.page_content for doc in retrieved_docs])\n",
    "\n",
    "# return {\"context\": [\"context\"]}\n",
    "# print(context)"
   ]
  },
  {
   "cell_type": "code",
   "execution_count": 101,
   "metadata": {},
   "outputs": [
    {
     "name": "stdout",
     "output_type": "stream",
     "text": [
      "['What is the Sovereign Gold Bond Scheme?\\nThe Sovereign Gold Bond Scheme is a government initiative launched by the Reserve Bank of India (RBI)\\non behalf of the Government of India. It allows investors to invest in gold in a non-physical form, making it\\na safer and more eﬃcient alternative to buying physical gold. These bonds are denominated in grams of\\ngold and oﬀer an annual interest rate of 2.50% over and above the potential capital gains linked to the\\nmarket price of gold.', '\\ue9009082 | 2 mins  14 April 2025\\nThe Sovereign Gold Bond Scheme is a government-backed investment option that enables individuals to\\ninvest in gold without the need for physical possession. These bonds oﬀer the dual beneﬁt of annual\\ninterest income and returns linked to the market value of gold. With the upcoming Sovereign Gold Bond\\nScheme 2024–25, investors will have another opportunity to subscribe at prevailing gold rates,', 'of the biggest advantages of SGBs is the exemption from capital gains tax if held until maturity, making\\nthem a tax-eﬃcient choice.\\nOverall, the sovereign gold bond scheme 2025 26 is ideal for those looking to diversify their portfolio\\nwithout the hassles of storing physical gold. It combines the security of a government-backed product\\nwith the potential for solid ﬁnancial returns.\\nHow to subscribe to the upcoming sovereign gold bond?', 'The sovereign gold bond scheme 2025-26 continues to oﬀer a secure and rewarding way to invest in\\ngold without the need to physically hold it. Issued by the Reserve Bank of India on behalf of the\\nGovernment of India, the upcoming sovereign gold bond scheme 2025-26 is ideal for those seeking long-\\nterm wealth creation with additional tax and liquidity beneﬁts.\\nHere are the main features of the scheme:\\nDo not Call\\nDownload the app\\n\\ue905 \\ue99a \\ue95a \\ue956 \\ue959 \\ue958 \\ue957', 'Features of upcoming sovereign gold bonds in 2024-25\\nThe upcoming Sovereign Gold Bond scheme 2025–26 oﬀers several features and beneﬁts that make it a\\nsmart choice for gold investors in India. Backed by the Government of India, SGBs combine safety with\\nreturns. Below are the key features of the scheme:\\nFixed interest income: Investors earn a ﬁxed interest of 2.50% per annum, paid semi-annually. This\\nis in addition to the potential gains from rising gold prices.']\n",
      "5\n"
     ]
    },
    {
     "data": {
      "application/vnd.plotly.v1+json": {
       "config": {
        "plotlyServerURL": "https://plot.ly"
       },
       "data": [
        {
         "marker": {
          "color": "red",
          "size": 10
         },
         "mode": "markers+text",
         "name": "Query",
         "text": [
          "Query"
         ],
         "textposition": "top center",
         "type": "scatter",
         "x": [
          -13.842361450195312
         ],
         "y": [
          -167.93321228027344
         ]
        },
        {
         "marker": {
          "color": "blue",
          "size": 8
         },
         "mode": "markers+text",
         "name": "Retrieved Chunks",
         "text": [
          "Doc 1",
          "Doc 2",
          "Doc 3",
          "Doc 4",
          "Doc 5"
         ],
         "textposition": "bottom center",
         "type": "scatter",
         "x": {
          "bdata": "2EC1wGKIo76uQUvCm1otwr0rOcI=",
          "dtype": "f4"
         },
         "y": {
          "bdata": "yQslwxApI8PljKRCQBOMQsy/lUI=",
          "dtype": "f4"
         }
        }
       ],
       "layout": {
        "height": 400,
        "legend": {
         "title": {
          "text": "Vectors"
         }
        },
        "template": {
         "data": {
          "bar": [
           {
            "error_x": {
             "color": "#2a3f5f"
            },
            "error_y": {
             "color": "#2a3f5f"
            },
            "marker": {
             "line": {
              "color": "#E5ECF6",
              "width": 0.5
             },
             "pattern": {
              "fillmode": "overlay",
              "size": 10,
              "solidity": 0.2
             }
            },
            "type": "bar"
           }
          ],
          "barpolar": [
           {
            "marker": {
             "line": {
              "color": "#E5ECF6",
              "width": 0.5
             },
             "pattern": {
              "fillmode": "overlay",
              "size": 10,
              "solidity": 0.2
             }
            },
            "type": "barpolar"
           }
          ],
          "carpet": [
           {
            "aaxis": {
             "endlinecolor": "#2a3f5f",
             "gridcolor": "white",
             "linecolor": "white",
             "minorgridcolor": "white",
             "startlinecolor": "#2a3f5f"
            },
            "baxis": {
             "endlinecolor": "#2a3f5f",
             "gridcolor": "white",
             "linecolor": "white",
             "minorgridcolor": "white",
             "startlinecolor": "#2a3f5f"
            },
            "type": "carpet"
           }
          ],
          "choropleth": [
           {
            "colorbar": {
             "outlinewidth": 0,
             "ticks": ""
            },
            "type": "choropleth"
           }
          ],
          "contour": [
           {
            "colorbar": {
             "outlinewidth": 0,
             "ticks": ""
            },
            "colorscale": [
             [
              0,
              "#0d0887"
             ],
             [
              0.1111111111111111,
              "#46039f"
             ],
             [
              0.2222222222222222,
              "#7201a8"
             ],
             [
              0.3333333333333333,
              "#9c179e"
             ],
             [
              0.4444444444444444,
              "#bd3786"
             ],
             [
              0.5555555555555556,
              "#d8576b"
             ],
             [
              0.6666666666666666,
              "#ed7953"
             ],
             [
              0.7777777777777778,
              "#fb9f3a"
             ],
             [
              0.8888888888888888,
              "#fdca26"
             ],
             [
              1,
              "#f0f921"
             ]
            ],
            "type": "contour"
           }
          ],
          "contourcarpet": [
           {
            "colorbar": {
             "outlinewidth": 0,
             "ticks": ""
            },
            "type": "contourcarpet"
           }
          ],
          "heatmap": [
           {
            "colorbar": {
             "outlinewidth": 0,
             "ticks": ""
            },
            "colorscale": [
             [
              0,
              "#0d0887"
             ],
             [
              0.1111111111111111,
              "#46039f"
             ],
             [
              0.2222222222222222,
              "#7201a8"
             ],
             [
              0.3333333333333333,
              "#9c179e"
             ],
             [
              0.4444444444444444,
              "#bd3786"
             ],
             [
              0.5555555555555556,
              "#d8576b"
             ],
             [
              0.6666666666666666,
              "#ed7953"
             ],
             [
              0.7777777777777778,
              "#fb9f3a"
             ],
             [
              0.8888888888888888,
              "#fdca26"
             ],
             [
              1,
              "#f0f921"
             ]
            ],
            "type": "heatmap"
           }
          ],
          "histogram": [
           {
            "marker": {
             "pattern": {
              "fillmode": "overlay",
              "size": 10,
              "solidity": 0.2
             }
            },
            "type": "histogram"
           }
          ],
          "histogram2d": [
           {
            "colorbar": {
             "outlinewidth": 0,
             "ticks": ""
            },
            "colorscale": [
             [
              0,
              "#0d0887"
             ],
             [
              0.1111111111111111,
              "#46039f"
             ],
             [
              0.2222222222222222,
              "#7201a8"
             ],
             [
              0.3333333333333333,
              "#9c179e"
             ],
             [
              0.4444444444444444,
              "#bd3786"
             ],
             [
              0.5555555555555556,
              "#d8576b"
             ],
             [
              0.6666666666666666,
              "#ed7953"
             ],
             [
              0.7777777777777778,
              "#fb9f3a"
             ],
             [
              0.8888888888888888,
              "#fdca26"
             ],
             [
              1,
              "#f0f921"
             ]
            ],
            "type": "histogram2d"
           }
          ],
          "histogram2dcontour": [
           {
            "colorbar": {
             "outlinewidth": 0,
             "ticks": ""
            },
            "colorscale": [
             [
              0,
              "#0d0887"
             ],
             [
              0.1111111111111111,
              "#46039f"
             ],
             [
              0.2222222222222222,
              "#7201a8"
             ],
             [
              0.3333333333333333,
              "#9c179e"
             ],
             [
              0.4444444444444444,
              "#bd3786"
             ],
             [
              0.5555555555555556,
              "#d8576b"
             ],
             [
              0.6666666666666666,
              "#ed7953"
             ],
             [
              0.7777777777777778,
              "#fb9f3a"
             ],
             [
              0.8888888888888888,
              "#fdca26"
             ],
             [
              1,
              "#f0f921"
             ]
            ],
            "type": "histogram2dcontour"
           }
          ],
          "mesh3d": [
           {
            "colorbar": {
             "outlinewidth": 0,
             "ticks": ""
            },
            "type": "mesh3d"
           }
          ],
          "parcoords": [
           {
            "line": {
             "colorbar": {
              "outlinewidth": 0,
              "ticks": ""
             }
            },
            "type": "parcoords"
           }
          ],
          "pie": [
           {
            "automargin": true,
            "type": "pie"
           }
          ],
          "scatter": [
           {
            "fillpattern": {
             "fillmode": "overlay",
             "size": 10,
             "solidity": 0.2
            },
            "type": "scatter"
           }
          ],
          "scatter3d": [
           {
            "line": {
             "colorbar": {
              "outlinewidth": 0,
              "ticks": ""
             }
            },
            "marker": {
             "colorbar": {
              "outlinewidth": 0,
              "ticks": ""
             }
            },
            "type": "scatter3d"
           }
          ],
          "scattercarpet": [
           {
            "marker": {
             "colorbar": {
              "outlinewidth": 0,
              "ticks": ""
             }
            },
            "type": "scattercarpet"
           }
          ],
          "scattergeo": [
           {
            "marker": {
             "colorbar": {
              "outlinewidth": 0,
              "ticks": ""
             }
            },
            "type": "scattergeo"
           }
          ],
          "scattergl": [
           {
            "marker": {
             "colorbar": {
              "outlinewidth": 0,
              "ticks": ""
             }
            },
            "type": "scattergl"
           }
          ],
          "scattermap": [
           {
            "marker": {
             "colorbar": {
              "outlinewidth": 0,
              "ticks": ""
             }
            },
            "type": "scattermap"
           }
          ],
          "scattermapbox": [
           {
            "marker": {
             "colorbar": {
              "outlinewidth": 0,
              "ticks": ""
             }
            },
            "type": "scattermapbox"
           }
          ],
          "scatterpolar": [
           {
            "marker": {
             "colorbar": {
              "outlinewidth": 0,
              "ticks": ""
             }
            },
            "type": "scatterpolar"
           }
          ],
          "scatterpolargl": [
           {
            "marker": {
             "colorbar": {
              "outlinewidth": 0,
              "ticks": ""
             }
            },
            "type": "scatterpolargl"
           }
          ],
          "scatterternary": [
           {
            "marker": {
             "colorbar": {
              "outlinewidth": 0,
              "ticks": ""
             }
            },
            "type": "scatterternary"
           }
          ],
          "surface": [
           {
            "colorbar": {
             "outlinewidth": 0,
             "ticks": ""
            },
            "colorscale": [
             [
              0,
              "#0d0887"
             ],
             [
              0.1111111111111111,
              "#46039f"
             ],
             [
              0.2222222222222222,
              "#7201a8"
             ],
             [
              0.3333333333333333,
              "#9c179e"
             ],
             [
              0.4444444444444444,
              "#bd3786"
             ],
             [
              0.5555555555555556,
              "#d8576b"
             ],
             [
              0.6666666666666666,
              "#ed7953"
             ],
             [
              0.7777777777777778,
              "#fb9f3a"
             ],
             [
              0.8888888888888888,
              "#fdca26"
             ],
             [
              1,
              "#f0f921"
             ]
            ],
            "type": "surface"
           }
          ],
          "table": [
           {
            "cells": {
             "fill": {
              "color": "#EBF0F8"
             },
             "line": {
              "color": "white"
             }
            },
            "header": {
             "fill": {
              "color": "#C8D4E3"
             },
             "line": {
              "color": "white"
             }
            },
            "type": "table"
           }
          ]
         },
         "layout": {
          "annotationdefaults": {
           "arrowcolor": "#2a3f5f",
           "arrowhead": 0,
           "arrowwidth": 1
          },
          "autotypenumbers": "strict",
          "coloraxis": {
           "colorbar": {
            "outlinewidth": 0,
            "ticks": ""
           }
          },
          "colorscale": {
           "diverging": [
            [
             0,
             "#8e0152"
            ],
            [
             0.1,
             "#c51b7d"
            ],
            [
             0.2,
             "#de77ae"
            ],
            [
             0.3,
             "#f1b6da"
            ],
            [
             0.4,
             "#fde0ef"
            ],
            [
             0.5,
             "#f7f7f7"
            ],
            [
             0.6,
             "#e6f5d0"
            ],
            [
             0.7,
             "#b8e186"
            ],
            [
             0.8,
             "#7fbc41"
            ],
            [
             0.9,
             "#4d9221"
            ],
            [
             1,
             "#276419"
            ]
           ],
           "sequential": [
            [
             0,
             "#0d0887"
            ],
            [
             0.1111111111111111,
             "#46039f"
            ],
            [
             0.2222222222222222,
             "#7201a8"
            ],
            [
             0.3333333333333333,
             "#9c179e"
            ],
            [
             0.4444444444444444,
             "#bd3786"
            ],
            [
             0.5555555555555556,
             "#d8576b"
            ],
            [
             0.6666666666666666,
             "#ed7953"
            ],
            [
             0.7777777777777778,
             "#fb9f3a"
            ],
            [
             0.8888888888888888,
             "#fdca26"
            ],
            [
             1,
             "#f0f921"
            ]
           ],
           "sequentialminus": [
            [
             0,
             "#0d0887"
            ],
            [
             0.1111111111111111,
             "#46039f"
            ],
            [
             0.2222222222222222,
             "#7201a8"
            ],
            [
             0.3333333333333333,
             "#9c179e"
            ],
            [
             0.4444444444444444,
             "#bd3786"
            ],
            [
             0.5555555555555556,
             "#d8576b"
            ],
            [
             0.6666666666666666,
             "#ed7953"
            ],
            [
             0.7777777777777778,
             "#fb9f3a"
            ],
            [
             0.8888888888888888,
             "#fdca26"
            ],
            [
             1,
             "#f0f921"
            ]
           ]
          },
          "colorway": [
           "#636efa",
           "#EF553B",
           "#00cc96",
           "#ab63fa",
           "#FFA15A",
           "#19d3f3",
           "#FF6692",
           "#B6E880",
           "#FF97FF",
           "#FECB52"
          ],
          "font": {
           "color": "#2a3f5f"
          },
          "geo": {
           "bgcolor": "white",
           "lakecolor": "white",
           "landcolor": "#E5ECF6",
           "showlakes": true,
           "showland": true,
           "subunitcolor": "white"
          },
          "hoverlabel": {
           "align": "left"
          },
          "hovermode": "closest",
          "mapbox": {
           "style": "light"
          },
          "paper_bgcolor": "white",
          "plot_bgcolor": "#E5ECF6",
          "polar": {
           "angularaxis": {
            "gridcolor": "white",
            "linecolor": "white",
            "ticks": ""
           },
           "bgcolor": "#E5ECF6",
           "radialaxis": {
            "gridcolor": "white",
            "linecolor": "white",
            "ticks": ""
           }
          },
          "scene": {
           "xaxis": {
            "backgroundcolor": "#E5ECF6",
            "gridcolor": "white",
            "gridwidth": 2,
            "linecolor": "white",
            "showbackground": true,
            "ticks": "",
            "zerolinecolor": "white"
           },
           "yaxis": {
            "backgroundcolor": "#E5ECF6",
            "gridcolor": "white",
            "gridwidth": 2,
            "linecolor": "white",
            "showbackground": true,
            "ticks": "",
            "zerolinecolor": "white"
           },
           "zaxis": {
            "backgroundcolor": "#E5ECF6",
            "gridcolor": "white",
            "gridwidth": 2,
            "linecolor": "white",
            "showbackground": true,
            "ticks": "",
            "zerolinecolor": "white"
           }
          },
          "shapedefaults": {
           "line": {
            "color": "#2a3f5f"
           }
          },
          "ternary": {
           "aaxis": {
            "gridcolor": "white",
            "linecolor": "white",
            "ticks": ""
           },
           "baxis": {
            "gridcolor": "white",
            "linecolor": "white",
            "ticks": ""
           },
           "bgcolor": "#E5ECF6",
           "caxis": {
            "gridcolor": "white",
            "linecolor": "white",
            "ticks": ""
           }
          },
          "title": {
           "x": 0.05
          },
          "xaxis": {
           "automargin": true,
           "gridcolor": "white",
           "linecolor": "white",
           "ticks": "",
           "title": {
            "standoff": 15
           },
           "zerolinecolor": "white",
           "zerolinewidth": 2
          },
          "yaxis": {
           "automargin": true,
           "gridcolor": "white",
           "linecolor": "white",
           "ticks": "",
           "title": {
            "standoff": 15
           },
           "zerolinecolor": "white",
           "zerolinewidth": 2
          }
         }
        },
        "title": {
         "text": "t-SNE Visualization of FAISS Search Results"
        },
        "width": 700,
        "xaxis": {
         "title": {
          "text": "t-SNE Dimension 1"
         }
        },
        "yaxis": {
         "title": {
          "text": "t-SNE Dimension 2"
         }
        }
       }
      }
     },
     "metadata": {},
     "output_type": "display_data"
    }
   ],
   "source": [
    "import numpy as np\n",
    "from sklearn.manifold import TSNE\n",
    "import plotly.graph_objects as go\n",
    "\n",
    "# query = \"What are the benefits of Sovereign Gold Bonds compared to physical gold?\"\n",
    "\n",
    "# Search for relevant chunks and get the documents\n",
    "# retrieved_docs = vecstore.similarity_search(query, k=3)\n",
    "\n",
    "# Get the text content of the retrieved documents\n",
    "retrieved_texts = [doc.page_content for doc in retrieved_docs]\n",
    "context = \"\\n\\n\".join([doc.page_content for doc in retrieved_docs])\n",
    "print(retrieved_texts)\n",
    "print(len(retrieved_texts))\n",
    "# Get the embeddings for both the query and the retrieved documents\n",
    "# This is the crucial step to fix the error.\n",
    "query_embedding = embeddings.embed_query(query)\n",
    "retrieved_embeddings = embeddings.embed_documents(retrieved_texts)\n",
    "\n",
    "# Convert embeddings to numpy arrays if they are not already\n",
    "query_embedding = np.array(query_embedding).reshape(1, -1)\n",
    "retrieved_embeddings = np.array(retrieved_embeddings)\n",
    "\n",
    "# Now, combine the query embedding with the document embeddings\n",
    "all_embeddings = np.vstack([query_embedding, retrieved_embeddings])\n",
    "\n",
    "# Perform dimensionality reduction using t-SNE\n",
    "tsne = TSNE(n_components=2, perplexity=1, random_state=42, init='pca', learning_rate='auto')\n",
    "reduced_vectors = tsne.fit_transform(all_embeddings)\n",
    "\n",
    "# Separate the reduced vectors for plotting\n",
    "query_vec_2d = reduced_vectors[0]\n",
    "doc_vecs_2d = reduced_vectors[1:]\n",
    "\n",
    "# Create a list of labels for the plot\n",
    "labels = [\"Query\"] + [f\"Doc {i+1}\" for i in range(len(doc_vecs_2d))]\n",
    "\n",
    "# Visualize the results using Plotly for an interactive plot\n",
    "fig = go.Figure()\n",
    "\n",
    "# Add a trace for the query\n",
    "fig.add_trace(go.Scatter(\n",
    "    x=[query_vec_2d[0]],\n",
    "    y=[query_vec_2d[1]],\n",
    "    mode='markers+text',\n",
    "    name='Query',\n",
    "    text=['Query'],\n",
    "    marker=dict(size=10, color='red'),\n",
    "    textposition=\"top center\"\n",
    "))\n",
    "\n",
    "# Add a trace for the retrieved documents\n",
    "fig.add_trace(go.Scatter(\n",
    "    x=doc_vecs_2d[:, 0],\n",
    "    y=doc_vecs_2d[:, 1],\n",
    "    mode='markers+text',\n",
    "    name='Retrieved Chunks',\n",
    "    text=[f\"Doc {i+1}\" for i in range(len(doc_vecs_2d))],\n",
    "    marker=dict(size=8, color='blue'),\n",
    "    textposition=\"bottom center\"\n",
    "))\n",
    "\n",
    "# Update layout for a better visual\n",
    "fig.update_layout(\n",
    "    title='t-SNE Visualization of FAISS Search Results',\n",
    "    xaxis_title='t-SNE Dimension 1',\n",
    "    yaxis_title='t-SNE Dimension 2',\n",
    "    legend_title='Vectors',\n",
    "    width=700,  # Set the canvas width to 600 pixels\n",
    "    height=400  # Set the canvas height to 400 pixels   # Sets the y-axis tick step\n",
    ")\n",
    "\n",
    "fig.show()\n",
    "\n",
    "# To get the scores, you can use similarity_search_with_score\n",
    "# retrieved_docs_with_scores = vecstore.similarity_search_with_score(query, k=5)\n",
    "# print(retrieved_docs_with_scores)\n",
    "\n",
    "# for doc, score in retrieved_docs_with_scores:\n",
    "#     cosine_sim = faiss_score_to_cosine(score)\n",
    "#     print(\"Chunk:\", doc.page_content[:80], \"...\")\n",
    "#     print(\"FAISS L2 distance:\", score)\n",
    "#     print(\"Cosine similarity:\", cosine_sim)\n",
    "#     print()"
   ]
  },
  {
   "cell_type": "code",
   "execution_count": 102,
   "metadata": {},
   "outputs": [
    {
     "name": "stdout",
     "output_type": "stream",
     "text": [
      "Document 1 Cosine Similarity Score: 0.8839396576531003\n",
      "Document 2 Cosine Similarity Score: 0.8782367992402252\n",
      "Document 3 Cosine Similarity Score: 0.8760832701518676\n",
      "Document 4 Cosine Similarity Score: 0.8624816430574853\n",
      "Document 5 Cosine Similarity Score: 0.8605692438171765\n",
      "\n",
      "Documents ranked by cosine similarity:\n",
      "Rank 1: Score = 0.8839, Document = What is the Sovereign Gold Bond Scheme?\n",
      "The Sovere...\n",
      "Rank 2: Score = 0.8782, Document = 9082 | 2 mins  14 April 2025\n",
      "The Sovereign Gold B...\n",
      "Rank 3: Score = 0.8761, Document = of the biggest advantages of SGBs is the exemption...\n",
      "Rank 4: Score = 0.8625, Document = The sovereign gold bond scheme 2025-26 continues t...\n",
      "Rank 5: Score = 0.8606, Document = Features of upcoming sovereign gold bonds in 2024-...\n",
      "\n",
      "Average Cosine Score: 0.8723\n"
     ]
    }
   ],
   "source": [
    "import numpy as np\n",
    "\n",
    "# Assuming you have already generated these embeddings\n",
    "query_embedding = np.array(query_embedding).reshape(1, -1)\n",
    "retrieved_embeddings = np.array(retrieved_embeddings)\n",
    "\n",
    "# Reshape the query embedding to be a 1D vector for easier calculation\n",
    "query_vector = query_embedding[0]\n",
    "\n",
    "# Calculate dot product and norms\n",
    "dot_product = np.dot(retrieved_embeddings, query_vector)\n",
    "norm_docs = np.linalg.norm(retrieved_embeddings, axis=1)\n",
    "norm_query = np.linalg.norm(query_vector)\n",
    "\n",
    "# Calculate cosine similarity for each document\n",
    "cosine_scores = dot_product / (norm_docs * norm_query)\n",
    "\n",
    "# Now you have an array of cosine scores, one for each retrieved document.\n",
    "# You can pair these with the documents to sort them.\n",
    "for i, score in enumerate(cosine_scores):\n",
    "    print(f\"Document {i+1} Cosine Similarity Score: {score}\")\n",
    "\n",
    "# Sort the documents based on their scores in descending order\n",
    "sorted_indices = np.argsort(cosine_scores)[::-1]\n",
    "sorted_docs = [retrieved_docs[i] for i in sorted_indices]\n",
    "sorted_scores = cosine_scores[sorted_indices]\n",
    "\n",
    "print(\"\\nDocuments ranked by cosine similarity:\")\n",
    "for i in range(len(sorted_docs)):\n",
    "    print(f\"Rank {i+1}: Score = {sorted_scores[i]:.4f}, Document = {sorted_docs[i].page_content[:50]}...\")\n",
    "\n",
    "average_score = np.mean(sorted_scores)\n",
    "print(f\"\\nAverage Cosine Score: {average_score:.4f}\")"
   ]
  },
  {
   "cell_type": "code",
   "execution_count": 87,
   "metadata": {},
   "outputs": [
    {
     "name": "stdout",
     "output_type": "stream",
     "text": [
      "Documents ranked by cosine similarity:\n",
      "Rank 1: Score = 0.7092, Document = 9082 | 2 mins  14 April 2025\n",
      "The Sovereign Gold B...\n",
      "Rank 2: Score = 0.6853, Document = of the biggest advantages of SGBs is the exemption...\n",
      "Rank 3: Score = 0.6843, Document = What is the Sovereign Gold Bond Scheme?\n",
      "The Sovere...\n",
      "Rank 4: Score = 0.6811, Document = gold and oﬀer an annual interest rate of 2.50% ove...\n",
      "Rank 5: Score = 0.6727, Document = The sovereign gold bond scheme 2025-26 continues t...\n",
      "\n",
      "Average Cosine Score: 0.6865\n"
     ]
    }
   ],
   "source": [
    "from sklearn.metrics.pairwise import cosine_similarity\n",
    "import numpy as np\n",
    "\n",
    "# Assuming you have your embeddings as NumPy arrays\n",
    "# query_embedding = np.array(query_embedding).reshape(1, -1)\n",
    "# retrieved_embeddings = np.array(retrieved_embeddings)\n",
    "\n",
    "# Calculate the cosine similarity matrix\n",
    "# The result will be a (1, num_docs) matrix\n",
    "similarity_matrix = cosine_similarity(query_embedding, retrieved_embeddings)\n",
    "\n",
    "# The result is a 2D array, so we can access the scores with [0]\n",
    "cosine_scores = similarity_matrix[0]\n",
    "\n",
    "# Now, you have the scores. Let's combine them with the documents for a clear view.\n",
    "# To sort them, you can create a list of tuples.\n",
    "ranked_results = sorted(zip(retrieved_docs, cosine_scores), key=lambda x: x[1], reverse=True)\n",
    "\n",
    "print(\"Documents ranked by cosine similarity:\")\n",
    "for i, (doc, score) in enumerate(ranked_results):\n",
    "    print(f\"Rank {i+1}: Score = {score:.4f}, Document = {doc.page_content[:50]}...\")\n",
    "\n",
    "average_score = np.mean(sorted_scores)\n",
    "print(f\"\\nAverage Cosine Score: {average_score:.4f}\")"
   ]
  },
  {
   "cell_type": "code",
   "execution_count": 23,
   "metadata": {},
   "outputs": [
    {
     "name": "stderr",
     "output_type": "stream",
     "text": [
      "/users/trgl1183/miniconda3/envs/test_env/lib/python3.9/site-packages/umap/umap_.py:1952: UserWarning:\n",
      "\n",
      "n_jobs value 1 overridden to 1 by setting random_state. Use no seed for parallelism.\n",
      "\n",
      "/users/trgl1183/miniconda3/envs/test_env/lib/python3.9/site-packages/IPython/core/pylabtools.py:152: UserWarning:\n",
      "\n",
      "Glyph 59648 (\\ue900) missing from font(s) DejaVu Sans.\n",
      "\n",
      "/users/trgl1183/miniconda3/envs/test_env/lib/python3.9/site-packages/IPython/core/pylabtools.py:152: UserWarning:\n",
      "\n",
      "Glyph 59654 (\\ue906) missing from font(s) DejaVu Sans.\n",
      "\n"
     ]
    },
    {
     "data": {
      "image/png": "[encoded data removed]",
      "text/plain": [
       "<Figure size 1000x700 with 1 Axes>"
      ]
     },
     "metadata": {},
     "output_type": "display_data"
    }
   ],
   "source": [
    "import numpy as np\n",
    "import matplotlib.pyplot as plt\n",
    "import umap\n",
    "\n",
    "# ---------------------------\n",
    "# 1) Collect embeddings + text\n",
    "# ---------------------------\n",
    "texts = [doc.page_content for doc in splits]\n",
    "embs = embeddings.embed_documents(texts)   # shape: [N, D]\n",
    "\n",
    "# ---------------------------\n",
    "# 2) Dimensionality reduction\n",
    "# ---------------------------\n",
    "reducer = umap.UMAP(n_neighbors=15, n_components=2, metric=\"cosine\", random_state=42)\n",
    "coords = reducer.fit_transform(embs)   # shape: [N, 2]\n",
    "\n",
    "# ---------------------------\n",
    "# 3) Matplotlib scatter plot\n",
    "# ---------------------------\n",
    "plt.figure(figsize=(10, 7))\n",
    "plt.scatter(coords[:, 0], coords[:, 1], s=20, alpha=0.7, c=\"blue\")\n",
    "\n",
    "plt.title(\"Semantic Chunk Visualization (UMAP)\", fontsize=14)\n",
    "plt.xlabel(\"UMAP-1\")\n",
    "plt.ylabel(\"UMAP-2\")\n",
    "\n",
    "# Optionally annotate some points with short text previews\n",
    "for i, txt in enumerate(texts[:20]):  # limit to first 20 to avoid clutter\n",
    "    plt.annotate(txt[:30] + \"…\", (coords[i, 0], coords[i, 1]), fontsize=8, alpha=0.7)\n",
    "\n",
    "plt.show()\n"
   ]
  },
  {
   "cell_type": "code",
   "execution_count": 3,
   "metadata": {},
   "outputs": [
    {
     "name": "stdout",
     "output_type": "stream",
     "text": [
      "Generating embeddings for all text chunks...\n",
      "Applying t-SNE with perplexity=28 for dimensionality reduction...\n"
     ]
    },
    {
     "name": "stderr",
     "output_type": "stream",
     "text": [
      "huggingface/tokenizers: The current process just got forked, after parallelism has already been used. Disabling parallelism to avoid deadlocks...\n",
      "To disable this warning, you can either:\n",
      "\t- Avoid using `tokenizers` before the fork if possible\n",
      "\t- Explicitly set the environment variable TOKENIZERS_PARALLELISM=(true | false)\n",
      "huggingface/tokenizers: The current process just got forked, after parallelism has already been used. Disabling parallelism to avoid deadlocks...\n",
      "To disable this warning, you can either:\n",
      "\t- Avoid using `tokenizers` before the fork if possible\n",
      "\t- Explicitly set the environment variable TOKENIZERS_PARALLELISM=(true | false)\n"
     ]
    },
    {
     "name": "stdout",
     "output_type": "stream",
     "text": [
      "Creating the visualization...\n"
     ]
    },
    {
     "data": {
      "image/png": "[encoded data removed]",
      "text/plain": [
       "<Figure size 1000x800 with 1 Axes>"
      ]
     },
     "metadata": {},
     "output_type": "display_data"
    }
   ],
   "source": [
    "# Import necessary libraries\n",
    "import numpy as np\n",
    "import matplotlib.pyplot as plt\n",
    "from sklearn.manifold import TSNE\n",
    "from langchain_community.document_loaders import PyPDFLoader\n",
    "from langchain.text_splitter import RecursiveCharacterTextSplitter\n",
    "from langchain_community.embeddings import HuggingFaceEmbeddings\n",
    "from langchain_community.vectorstores import FAISS\n",
    "\n",
    "def visualize_embeddings(splits, embeddings_model, colors):\n",
    "    \"\"\"\n",
    "    Visualizes the embeddings of text chunks using t-SNE.\n",
    "\n",
    "    Args:\n",
    "        splits (list): A list of Document objects from the text splitter.\n",
    "        embeddings_model: The pre-trained embeddings model.\n",
    "        colors (list): A list of colors for each document based on its source.\n",
    "    \"\"\"\n",
    "    if not splits:\n",
    "        print(\"No text chunks to visualize. Skipping visualization.\")\n",
    "        return\n",
    "\n",
    "    print(\"Generating embeddings for all text chunks...\")\n",
    "    # Get the embeddings for all document splits\n",
    "    texts = [doc.page_content for doc in splits]\n",
    "    embeddings_list = embeddings_model.embed_documents(texts)\n",
    "    embeddings_array = np.array(embeddings_list)\n",
    "    \n",
    "    n_samples = embeddings_array.shape[0]\n",
    "\n",
    "    if n_samples <= 1:\n",
    "        print(f\"Cannot visualize with only {n_samples} sample(s). Need more data.\")\n",
    "        return\n",
    "\n",
    "    # Dynamically set perplexity to be less than the number of samples\n",
    "    # A common practice is to use min(30, n_samples - 1) for a safe value\n",
    "    perplexity_val = min(30, n_samples - 1)\n",
    "    \n",
    "    print(f\"Applying t-SNE with perplexity={perplexity_val} for dimensionality reduction...\")\n",
    "    # Use t-SNE to reduce the embeddings to 2 dimensions for plotting\n",
    "    tsne = TSNE(n_components=2, perplexity=perplexity_val, random_state=42, init='pca')\n",
    "    reduced_embeddings = tsne.fit_transform(embeddings_array)\n",
    "\n",
    "    print(\"Creating the visualization...\")\n",
    "    # Create a scatter plot of the reduced embeddings\n",
    "    plt.figure(figsize=(10, 8))\n",
    "\n",
    "    # Get the file names for the legend\n",
    "    unique_files = sorted(list(set(doc.metadata.get('source') for doc in splits)))\n",
    "    color_map = {path: color for path, color in zip(unique_files, colors)}\n",
    "\n",
    "    for i, doc in enumerate(splits):\n",
    "        source = doc.metadata.get('source')\n",
    "        plt.scatter(\n",
    "            reduced_embeddings[i, 0],\n",
    "            reduced_embeddings[i, 1],\n",
    "            c=color_map.get(source, \"gray\"), # Use .get with a default for safety\n",
    "            label=source if source not in plt.gca().get_legend_handles_labels()[1] else \"\",\n",
    "            alpha=0.7,\n",
    "            edgecolors='w'\n",
    "        )\n",
    "    \n",
    "    # Add titles and labels for clarity\n",
    "    plt.title('t-SNE Visualization of Document Embeddings')\n",
    "    plt.xlabel('t-SNE Component 1')\n",
    "    plt.ylabel('t-SNE Component 2')\n",
    "    plt.legend(title=\"Source Document\", markerscale=1.5)\n",
    "    plt.grid(True)\n",
    "    \n",
    "    # Show the plot\n",
    "    plt.show()\n",
    "\n",
    "# --- Your original RAG code ---\n",
    "def rag_search(state: dict):\n",
    "    # 1) Load your PDFs\n",
    "    pdf_paths = [\n",
    "        \"../query1_data/Gold ETF vs Physical Gold.pdf\",\n",
    "        \"../query1_data/Sovereign Gold Bond Scheme 2025-26.pdf\"\n",
    "    ]\n",
    "\n",
    "    docs = []\n",
    "    for p in pdf_paths:\n",
    "        try:\n",
    "            loader = PyPDFLoader(p)\n",
    "            # Each page comes with metadata; loader returns Document objects\n",
    "            docs.extend(loader.load())\n",
    "        except Exception as e:\n",
    "            print(f\"Error loading {p}: {e}\")\n",
    "            # If files are not found, we cannot proceed\n",
    "            return {\"context\": [\"Error: PDF files not found. Please ensure the paths are correct.\"]}\n",
    "\n",
    "    # 2) Split into chunks (keep overlaps for context continuity)\n",
    "    splitter = RecursiveCharacterTextSplitter(\n",
    "        chunk_size=900, chunk_overlap=150, separators=[\"\\n\\n\", \"\\n\", \" \", \"\"]\n",
    "    )\n",
    "    splits = splitter.split_documents(docs)\n",
    "\n",
    "    # 3) Embeddings (no API key needed)\n",
    "    embeddings = HuggingFaceEmbeddings(model_name=\"sentence-transformers/all-MiniLM-L6-v2\")\n",
    "\n",
    "    # 4) Build FAISS index\n",
    "    vecstore = FAISS.from_documents(splits, embeddings)\n",
    "\n",
    "    # 5) Create a retriever (top_k configurable inside the tool)\n",
    "    retriever = vecstore.as_retriever(search_type=\"similarity\", search_kwargs={\"k\": 6})\n",
    "\n",
    "    # Define your query\n",
    "    query = \"What are the benefits of Sovereign Gold Bonds compared to physical gold?\"\n",
    "\n",
    "    # Search for relevant chunks\n",
    "    retrieved_docs = vecstore.similarity_search(query, k=3)\n",
    "\n",
    "    # Combine retrieved content\n",
    "    context = \"\\n\\n\".join([doc.page_content for doc in retrieved_docs])\n",
    "\n",
    "    # Now, call the visualization function with the generated splits and embeddings model\n",
    "    # We will use two colors, one for each PDF\n",
    "    visualize_embeddings(splits, embeddings, [\"blue\", \"red\"])\n",
    "\n",
    "    return {\"context\": [context]}\n",
    "\n",
    "# Example usage (assuming the PDF files are available)\n",
    "if __name__ == \"__main__\":\n",
    "    # Create a dummy state object as required by the function signature\n",
    "    dummy_state = {}\n",
    "    rag_search(dummy_state)"
   ]
  },
  {
   "cell_type": "code",
   "execution_count": 6,
   "metadata": {},
   "outputs": [
    {
     "name": "stdout",
     "output_type": "stream",
     "text": [
      "Generating embeddings for all text chunks...\n",
      "Applying t-SNE with perplexity=28 for dimensionality reduction...\n",
      "Creating the visualization...\n"
     ]
    },
    {
     "data": {
      "image/png": "[encoded data removed]",
      "text/plain": [
       "<Figure size 1000x800 with 1 Axes>"
      ]
     },
     "metadata": {},
     "output_type": "display_data"
    }
   ],
   "source": [
    "# Import necessary libraries\n",
    "import numpy as np\n",
    "import matplotlib.pyplot as plt\n",
    "from sklearn.manifold import TSNE\n",
    "from langchain_community.document_loaders import PyPDFLoader\n",
    "from langchain.text_splitter import RecursiveCharacterTextSplitter\n",
    "from langchain_community.embeddings import HuggingFaceEmbeddings\n",
    "from langchain_community.vectorstores import FAISS\n",
    "\n",
    "def visualize_embeddings(splits, embeddings_model, colors):\n",
    "    \"\"\"\n",
    "    Visualizes the embeddings of text chunks using t-SNE.\n",
    "\n",
    "    Args:\n",
    "        splits (list): A list of Document objects from the text splitter.\n",
    "        embeddings_model: The pre-trained embeddings model.\n",
    "        colors (list): A list of colors for each document based on its source.\n",
    "    \"\"\"\n",
    "    if not splits:\n",
    "        print(\"No text chunks to visualize. Skipping visualization.\")\n",
    "        return\n",
    "\n",
    "    print(\"Generating embeddings for all text chunks...\")\n",
    "    # Get the embeddings for all document splits\n",
    "    texts = [doc.page_content for doc in splits]\n",
    "    embeddings_list = embeddings_model.embed_documents(texts)\n",
    "    embeddings_array = np.array(embeddings_list)\n",
    "    \n",
    "    n_samples = embeddings_array.shape[0]\n",
    "\n",
    "    if n_samples <= 1:\n",
    "        print(f\"Cannot visualize with only {n_samples} sample(s). Need more data.\")\n",
    "        return\n",
    "\n",
    "    # Dynamically set perplexity to be less than the number of samples\n",
    "    # A common practice is to use min(30, n_samples - 1) for a safe value\n",
    "    perplexity_val = min(30, n_samples - 1)\n",
    "    \n",
    "    print(f\"Applying t-SNE with perplexity={perplexity_val} for dimensionality reduction...\")\n",
    "    # Use t-SNE to reduce the embeddings to 2 dimensions for plotting\n",
    "    tsne = TSNE(n_components=2, perplexity=perplexity_val, random_state=42, init='pca')\n",
    "    reduced_embeddings = tsne.fit_transform(embeddings_array)\n",
    "\n",
    "    print(\"Creating the visualization...\")\n",
    "    # Create a scatter plot of the reduced embeddings\n",
    "    plt.figure(figsize=(10, 8))\n",
    "\n",
    "    # Get the file names for the legend\n",
    "    unique_files = sorted(list(set(doc.metadata.get('source') for doc in splits)))\n",
    "    color_map = {path: color for path, color in zip(unique_files, colors)}\n",
    "\n",
    "    for i, doc in enumerate(splits):\n",
    "        source = doc.metadata.get('source')\n",
    "        plt.scatter(\n",
    "            reduced_embeddings[i, 0],\n",
    "            reduced_embeddings[i, 1],\n",
    "            c=color_map.get(source, \"gray\"), # Use .get with a default for safety\n",
    "            label=source if source not in plt.gca().get_legend_handles_labels()[1] else \"\",\n",
    "            alpha=0.7,\n",
    "            edgecolors='w'\n",
    "        )\n",
    "    \n",
    "    # Add titles and labels for clarity\n",
    "    plt.title('t-SNE Visualization of Document Embeddings')\n",
    "    plt.xlabel('t-SNE Component 1')\n",
    "    plt.ylabel('t-SNE Component 2')\n",
    "    plt.legend(title=\"Source Document\", markerscale=1.5)\n",
    "    plt.grid(True)\n",
    "    \n",
    "    # Show the plot\n",
    "    plt.show()\n",
    "\n",
    "# --- Your original RAG code ---\n",
    "def rag_search(state: dict):\n",
    "    # 1) Load your PDFs\n",
    "    pdf_paths = [\n",
    "        \"../query1_data/Gold ETF vs Physical Gold.pdf\",\n",
    "        \"../query1_data/Sovereign Gold Bond Scheme 2025-26.pdf\"\n",
    "    ]\n",
    "\n",
    "    docs = []\n",
    "    for p in pdf_paths:\n",
    "        try:\n",
    "            loader = PyPDFLoader(p)\n",
    "            # Each page comes with metadata; loader returns Document objects\n",
    "            docs.extend(loader.load())\n",
    "        except Exception as e:\n",
    "            print(f\"Error loading {p}: {e}\")\n",
    "            # If files are not found, we cannot proceed\n",
    "            return {\"context\": [\"Error: PDF files not found. Please ensure the paths are correct.\"]}\n",
    "\n",
    "    # 2) Split into chunks (keep overlaps for context continuity)\n",
    "    splitter = RecursiveCharacterTextSplitter(\n",
    "        chunk_size=900, chunk_overlap=150, separators=[\"\\n\\n\", \"\\n\", \" \", \"\"]\n",
    "    )\n",
    "    splits = splitter.split_documents(docs)\n",
    "\n",
    "    # 3) Embeddings (no API key needed)\n",
    "    embeddings = HuggingFaceEmbeddings(model_name=\"sentence-transformers/multi-qa-MiniLM-L6-cos-v1\")\n",
    "\n",
    "    # 4) Build FAISS index\n",
    "    vecstore = FAISS.from_documents(splits, embeddings)\n",
    "\n",
    "    # 5) Create a retriever (top_k configurable inside the tool)\n",
    "    retriever = vecstore.as_retriever(search_type=\"similarity\", search_kwargs={\"k\": 6})\n",
    "\n",
    "    # Define your query\n",
    "    query = \"What are the benefits of Sovereign Gold Bonds compared to physical gold?\"\n",
    "\n",
    "    # Search for relevant chunks\n",
    "    retrieved_docs = vecstore.similarity_search(query, k=3)\n",
    "\n",
    "    # Combine retrieved content\n",
    "    context = \"\\n\\n\".join([doc.page_content for doc in retrieved_docs])\n",
    "\n",
    "    # Now, call the visualization function with the generated splits and embeddings model\n",
    "    # We will use two colors, one for each PDF\n",
    "    visualize_embeddings(splits, embeddings, [\"blue\", \"red\"])\n",
    "\n",
    "    return {\"context\": [context]}\n",
    "\n",
    "# Example usage (assuming the PDF files are available)\n",
    "if __name__ == \"__main__\":\n",
    "    # Create a dummy state object as required by the function signature\n",
    "    dummy_state = {}\n",
    "    rag_search(dummy_state)"
   ]
  },
  {
   "cell_type": "code",
   "execution_count": 13,
   "metadata": {},
   "outputs": [
    {
     "name": "stdout",
     "output_type": "stream",
     "text": [
      "Recommended Asset Allocation (General Rule of Thumb)\n",
      "This is based on the age-old 100 minus age rule, adjusted for your goal rather than your age.\n",
      "Why Equity Should Dominate\n",
      "Pros:\n",
      "• Historically, Indian equity returns average 12–15% p.a. over 10 years.\n",
      "• Ideal for longer horizons: gives you time to ride out market volatility.\n",
      "• Helps build a bigger corpus faster than debt instruments.\n",
      "How to Invest:\n",
      "• SIP in diversiﬁed equity mutual funds (e.g. large-cap, ﬂexi-cap, ELSS if tax saving).\n",
      "• Consider index funds or ETFs if you want lower cost.\n",
      "Why Debt Still Matters\n",
      "Role:\n",
      "• Adds stability to your portfolio.\n",
      "• Helps protect capital as you near the goal.\n",
      "• Rebalances volatility during market downturns.\n",
      "How to Invest:\n",
      "• Debt mutual funds (short-term, target maturity funds).\n",
      "• PPF, EPF (if available), ﬁxed deposits for part of the amount.\n",
      "Glide Path Strategy (Dynamic Rebalancing)\n",
      "\n",
      "This ensures your house down payment is protected from late-stage market crashes.\n",
      "Quick Illustration (₹10,000/month SIP)\n",
      "*Assuming 12% CAGR for equity and 6% CAGR for debt.\n",
      "Years Left to \n",
      "Goal Equity Debt\n",
      "10–7 years 70% 30%\n",
      "6–4 years 60% 40%\n",
      "3 years left 40% 60%\n",
      "1–2 years left 20–\n",
      "30%\n",
      "70–\n",
      "80%\n",
      "Asset Class Monthly \n",
      "Allocation\n",
      "Expected 10Y \n",
      "Corpus\n",
      "Equity \n",
      "(70%) ₹7,000/month ₹17–18 lakhs*\n",
      "Debt (30%) ₹3,000/month ₹5–5.5 lakhs*\n",
      "Total ₹10,000/month ₹22–23 lakhs\n",
      "\n",
      "• PPF, EPF (if available), ﬁxed deposits for part of the amount.\n",
      "Glide Path Strategy (Dynamic Rebalancing)\n",
      "As the goal approaches, gradually reduce equity exposure:\n",
      "Asset \n",
      "Class\n",
      "Suggested \n",
      "Allocation Why\n",
      "Equity 60–70% Higher growth potential over 10 years, can beat \n",
      "inﬂation\n",
      "Debt 30–40% Reduces volatility, provides stability\n"
     ]
    }
   ],
   "source": [
    "# Define your query\n",
    "query = \"Should I allocate more to equity or debt in my portfolio if I’m planning to buy a house in 10 years?\"\n",
    "\n",
    "# Search for relevant chunks\n",
    "retrieved_docs = vecstore.similarity_search(query, k=3)\n",
    "\n",
    "# Combine retrieved content\n",
    "context = \"\\n\\n\".join([doc.page_content for doc in retrieved_docs])\n",
    "\n",
    "print(context)\n"
   ]
  },
  {
   "cell_type": "code",
   "execution_count": null,
   "metadata": {},
   "outputs": [],
   "source": []
  }
 ],
 "metadata": {
  "kernelspec": {
   "display_name": "test_env",
   "language": "python",
   "name": "python3"
  },
  "language_info": {
   "codemirror_mode": {
    "name": "ipython",
    "version": 3
   },
   "file_extension": ".py",
   "mimetype": "text/x-python",
   "name": "python",
   "nbconvert_exporter": "python",
   "pygments_lexer": "ipython3",
   "version": "3.9.23"
  }
 },
 "nbformat": 4,
 "nbformat_minor": 2
}
