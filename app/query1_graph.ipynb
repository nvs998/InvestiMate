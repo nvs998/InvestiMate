{
 "cells": [
  {
   "cell_type": "code",
   "execution_count": 1,
   "metadata": {},
   "outputs": [
    {
     "name": "stderr",
     "output_type": "stream",
     "text": [
      "/users/trgl1183/miniconda3/envs/test_env/lib/python3.9/site-packages/tqdm/auto.py:21: TqdmWarning: IProgress not found. Please update jupyter and ipywidgets. See https://ipywidgets.readthedocs.io/en/stable/user_install.html\n",
      "  from .autonotebook import tqdm as notebook_tqdm\n"
     ]
    }
   ],
   "source": [
    "from langchain_core.messages import HumanMessage, SystemMessage, RemoveMessage\n",
    "from langgraph.graph import MessagesState, StateGraph, START, END\n",
    "from langgraph.checkpoint.memory import MemorySaver\n",
    "from langgraph.checkpoint.memory import InMemorySaver\n",
    "from langchain_community.document_loaders import WikipediaLoader\n",
    "from langchain_community.tools.tavily_search import TavilySearchResults\n",
    "import operator\n",
    "from typing import Annotated, TypedDict\n",
    "import uuid\n",
    "\n",
    "from llm_models.llama3_wrapper import get_llama3_llm, get_mistral_llm\n",
    "from langgraph.graph.message import add_messages\n",
    "\n",
    "# RAG Setup: loaders, splitter, embeddings, vector store\n",
    "from langchain_community.document_loaders import PyPDFLoader\n",
    "from langchain.text_splitter import RecursiveCharacterTextSplitter\n",
    "from langchain_community.vectorstores import FAISS\n",
    "from langchain_community.embeddings import HuggingFaceEmbeddings\n",
    "\n",
    "\n",
    "class State(TypedDict):\n",
    "    question: str\n",
    "    answer: str\n",
    "    context: str\n",
    "    summary: str\n",
    "    pointers: str\n",
    "\n",
    "# Define the logic to call the model\n",
    "def call_model(state: State):\n",
    "    context = state[\"context\"]\n",
    "    question = state[\"question\"]\n",
    "    pointers = state[\"pointers\"]\n",
    "    \n",
    "    prompt = f\"\"\"Answer this question: {question} \\nConsider these points for your analysis: {pointers} \\nUse this context to answer: {context}.\\nFinal Answer:\"\"\"\n",
    "    \n",
    "    llm = get_mistral_llm()\n",
    "    answer = llm.invoke(prompt)\n",
    "    \n",
    "    return { \"answer\" : answer }\n",
    "\n",
    "def final_answer(state: State):\n",
    "    raw_output = state[\"answer\"]\n",
    "    answer = raw_output.lower().split('final answer:', 1)\n",
    "    if len(answer) > 1:\n",
    "        print(\"\\n=============working===========\\n\")\n",
    "        answer = answer[1].strip()\n",
    "    else:\n",
    "        answer = raw_output\n",
    "    print(\"final_answer========\", answer)\n",
    "    return { \"answer\" : answer }\n",
    "\n",
    "\n",
    "def query_decomposition_tool(state: State):\n",
    "    return { \"pointers\" :\n",
    "        f\"1. Duration for which user plan to hold the investment?\\n2. User's convenience and safety.\\n3. Taxation.\\n4. Costs and Charges\"\n",
    "    }\n",
    "\n",
    "def rag_search2(state: State):\n",
    "    context = '''on behalf of the Government of India. It allows investors to invest in gold in a non-physical form, making it\n",
    "    a safer and more eﬃcient alternative to buying physical gold. These bonds are denominated in grams of\n",
    "    gold and oﬀer an annual interest rate of 2.50 percent over and above the potential capital gains linked to the\n",
    "    market price of gold.\n",
    "    One of the key beneﬁts of this scheme is that it eliminates the risks associated with storing physical gold,\n",
    "    such as theft or damage. Additionally, it oﬀers tax beneﬁts—especially if the bonds are held till maturity,\n",
    "    as the capital gains are tax-free.\n",
    "    The upcoming SGB issue under the upcoming Sovereign Gold Bond Scheme for the ﬁnancial year 2024–\n",
    "    25 presents a new opportunity for investors to buy these bonds at government-declared rates. It is an\n",
    "    ideal option for those looking to diversify their portfolio while beneﬁting from gold’s price appreciation\n",
    "\n",
    "    Tradability and liquidity: SGBs are tradable on stock exchanges, making them accessible for early\n",
    "    exit if required.\n",
    "    Small-ticket investment: You can buy as little as one gram of gold, making them suitable for all\n",
    "    budgets.\n",
    "    Tax beneﬁts: Capital gains are exempt if held till maturity.\n",
    "    Collateral for loans: Investors can use SGBs as security when applying for loans.\n",
    "    Stay updated on the sovereign gold bond next issue date and plan your investments wisely for the next\n",
    "    SGB issue date.\n",
    "    Understanding the upcoming sovereign gold bond issues\n",
    "    Sovereign Gold Bonds (SGBs) are a smart alternative to buying physical gold, introduced by the\n",
    "    Government of India to oﬀer safer, more rewarding investment options. The sovereign gold bond scheme\n",
    "    Staying informed about the upcoming SGB dates ensures that you do not miss the opportunity to invest\n",
    "\n",
    "    Tenure: Bonds have a maturity period of 8 years, with an option for premature redemption after 5\n",
    "    years.\n",
    "    Interest rate: Oﬀers a ﬁxed return of 2.50% per annum, paid semi-annually.\n",
    "    Issue price: Based on the average closing price of gold during the preceding week.\n",
    "    Eligibility: Open to resident individuals, Hindu Undivided Families (HUFs), trusts, universities, and\n",
    "    charitable institutions.\n",
    "    Tradability: Bonds are listed and tradable on recognised stock exchanges.\n",
    "    Minimum investment: Just 1 gram of gold, making it accessible to small investors.\n",
    "    Tax beneﬁts: Capital gains on redemption are exempt from tax if held until maturity.\n",
    "    Loan collateral: Bonds can be used as collateral for secured loans.\n",
    "    Stay informed about the upcoming sovereign gold bond scheme 2025-26 to make the most of these\n",
    "    beneﬁts.\n",
    "    Next sovereign gold bond issue date: Important dates to remember'''\n",
    "\n",
    "    return { \"context\" : context }\n",
    "\n",
    "def rag_search(state: State):\n",
    "    # 1) Load your PDFs\n",
    "    pdf_paths = [\n",
    "        \"../query1_data/Gold ETF vs Physical Gold.pdf\",\n",
    "        \"../query1_data/Sovereign Gold Bond Scheme 2025-26.pdf\"\n",
    "    ]\n",
    "\n",
    "    docs = []\n",
    "    for p in pdf_paths:\n",
    "        loader = PyPDFLoader(p)\n",
    "        # Each page comes with metadata; loader returns Document objects\n",
    "        docs.extend(loader.load())\n",
    "\n",
    "    # 2) Split into chunks (keep overlaps for context continuity)\n",
    "    splitter = RecursiveCharacterTextSplitter(\n",
    "        chunk_size=900, chunk_overlap=150, separators=[\"\\n\\n\", \"\\n\", \" \", \"\"]\n",
    "    )\n",
    "    splits = splitter.split_documents(docs)\n",
    "\n",
    "    # 3) Embeddings (no API key needed)\n",
    "    embeddings = HuggingFaceEmbeddings(model_name=\"sentence-transformers/all-MiniLM-L6-v2\")\n",
    "\n",
    "    # 4) Build FAISS index\n",
    "    vecstore = FAISS.from_documents(splits, embeddings)\n",
    "\n",
    "    # 5) Create a retriever (top_k configurable inside the tool)\n",
    "    retriever = vecstore.as_retriever(search_type=\"similarity\", search_kwargs={\"k\": 6})\n",
    "\n",
    "    # Define your query\n",
    "    query = \"What are the benefits of Sovereign Gold Bonds compared to physical gold?\"\n",
    "\n",
    "    # Search for relevant chunks\n",
    "    retrieved_docs = vecstore.similarity_search(query, k=3)\n",
    "\n",
    "    # Combine retrieved content\n",
    "    context = \"\\n\\n\".join([doc.page_content for doc in retrieved_docs])\n",
    "\n",
    "    return {\"context\": [\"context\"]}\n",
    "\n",
    "# Define the summarization function\n",
    "def summarize_conversation(state: State):\n",
    "    final_answer = state[\"answer\"]\n",
    "    summary = state.get(\"summary\", \"\")\n",
    "    if summary:\n",
    "        summary_message = f\"This is summary of the answer: {summary}\"\n",
    "    else:\n",
    "        summary_prompt = f\"Clean the below text properly without changing its meaning or adding additional information. Do not extend the answer and just the response as,\\nSummary:\\n\\nText:{final_answer}\"\n",
    "        llm = get_mistral_llm()\n",
    "        summary_message = llm.invoke(summary_prompt)\n",
    "    \n",
    "    return { \"summary\" : summary_message }\n",
    "\n",
    "# Define the summarization function\n",
    "# def summarize_conversation(state: State):\n",
    "#     summary = state.get(\"summary\", \"\")\n",
    "#     if summary:\n",
    "#         summary_message = f\"This is summary of the answer: {summary}\\n\\nExtend the summary by taking into account the new messages above:\"\n",
    "#     else:\n",
    "#         summary_message = \"Create a summary of the conversation above:\"\n",
    "#     messages = [HumanMessage(content=state[\"question\"])] + [SystemMessage(content=state[\"pointers\"])] + [SystemMessage(content=state[\"context\"])]\n",
    "#     print(\"messages===================\",messages)\n",
    "#     llm = get_llama3_llm()\n",
    "#     response = llm.invoke(messages)\n",
    "#     delete_messages = [RemoveMessage(id=m.id) for m in state[\"context\"][:-2]]\n",
    "#     return {\"summary\": state[\"answer\"]}\n"
   ]
  },
  {
   "cell_type": "code",
   "execution_count": 2,
   "metadata": {},
   "outputs": [],
   "source": [
    "# Define the graph\n",
    "builder = StateGraph(State)\n",
    "# builder.add_node(\"search_web\", search_web)\n",
    "builder.add_node(\"query_decomposition_tool\", query_decomposition_tool)\n",
    "builder.add_node(\"rag_search\", rag_search2)\n",
    "builder.add_node(\"generate_answer\", call_model)\n",
    "builder.add_node(\"extract_answer\", final_answer)\n",
    "builder.add_node(\"summarize_conversation\", summarize_conversation)\n",
    "builder.add_edge(START, \"query_decomposition_tool\")\n",
    "# builder.add_edge(START, \"search_web\")\n",
    "builder.add_edge(\"query_decomposition_tool\", \"rag_search\")\n",
    "# builder.add_edge(\"search_web\", \"generate_answer\")\n",
    "# builder.add_edge(\"generate_answer\", \"rag_search\")\n",
    "builder.add_edge(\"rag_search\", \"generate_answer\")\n",
    "builder.add_edge(\"generate_answer\", \"extract_answer\")\n",
    "# builder.add_edge(\"extract_answer\", \"summarize_conversation\")\n",
    "builder.add_edge(\"extract_answer\", END)\n",
    "\n",
    "# Compile the graph with memory\n",
    "# memory = MemorySaver()\n",
    "memory = InMemorySaver()\n",
    "graph = builder.compile(checkpointer=memory)"
   ]
  },
  {
   "cell_type": "code",
   "execution_count": 3,
   "metadata": {},
   "outputs": [
    {
     "name": "stdout",
     "output_type": "stream",
     "text": [
      "CUDA version: 12.4\n",
      "GPU Name: NVIDIA A2\n",
      "Inputs: tensor([[   1, 2378,  368,  506,  727]], device='cuda:0')\n"
     ]
    },
    {
     "name": "stderr",
     "output_type": "stream",
     "text": [
      "Loading checkpoint shards: 100%|██████████| 2/2 [00:13<00:00,  6.98s/it]\n",
      "Device set to use cuda:0\n",
      "Setting `pad_token_id` to `eos_token_id`:2 for open-end generation.\n"
     ]
    },
    {
     "name": "stdout",
     "output_type": "stream",
     "text": [
      "\n",
      "=============working===========\n",
      "\n",
      "final_answer======== if you plan to hold the investment for a longer duration and want to avoid the risks associated with physical gold storage, then investing in sovereign gold bonds is a good option. however, if you plan to sell the investment before maturity or want to keep it as a short-term investment, then buying physical gold might be a better option.\n",
      "Final State:\n",
      "{'question': 'Should I invest in gold through Sovereign Gold Bonds or buy physical gold this year?', 'answer': 'if you plan to hold the investment for a longer duration and want to avoid the risks associated with physical gold storage, then investing in sovereign gold bonds is a good option. however, if you plan to sell the investment before maturity or want to keep it as a short-term investment, then buying physical gold might be a better option.', 'context': 'on behalf of the Government of India. It allows investors to invest in gold in a non-physical form, making it\\n    a safer and more eﬃcient alternative to buying physical gold. These bonds are denominated in grams of\\n    gold and oﬀer an annual interest rate of 2.50 percent over and above the potential capital gains linked to the\\n    market price of gold.\\n    One of the key beneﬁts of this scheme is that it eliminates the risks associated with storing physical gold,\\n    such as theft or damage. Additionally, it oﬀers tax beneﬁts—especially if the bonds are held till maturity,\\n    as the capital gains are tax-free.\\n    The upcoming SGB issue under the upcoming Sovereign Gold Bond Scheme for the ﬁnancial year 2024–\\n    25 presents a new opportunity for investors to buy these bonds at government-declared rates. It is an\\n    ideal option for those looking to diversify their portfolio while beneﬁting from gold’s price appreciation\\n\\n    Tradability and liquidity: SGBs are tradable on stock exchanges, making them accessible for early\\n    exit if required.\\n    Small-ticket investment: You can buy as little as one gram of gold, making them suitable for all\\n    budgets.\\n    Tax beneﬁts: Capital gains are exempt if held till maturity.\\n    Collateral for loans: Investors can use SGBs as security when applying for loans.\\n    Stay updated on the sovereign gold bond next issue date and plan your investments wisely for the next\\n    SGB issue date.\\n    Understanding the upcoming sovereign gold bond issues\\n    Sovereign Gold Bonds (SGBs) are a smart alternative to buying physical gold, introduced by the\\n    Government of India to oﬀer safer, more rewarding investment options. The sovereign gold bond scheme\\n    Staying informed about the upcoming SGB dates ensures that you do not miss the opportunity to invest\\n\\n    Tenure: Bonds have a maturity period of 8 years, with an option for premature redemption after 5\\n    years.\\n    Interest rate: Oﬀers a ﬁxed return of 2.50% per annum, paid semi-annually.\\n    Issue price: Based on the average closing price of gold during the preceding week.\\n    Eligibility: Open to resident individuals, Hindu Undivided Families (HUFs), trusts, universities, and\\n    charitable institutions.\\n    Tradability: Bonds are listed and tradable on recognised stock exchanges.\\n    Minimum investment: Just 1 gram of gold, making it accessible to small investors.\\n    Tax beneﬁts: Capital gains on redemption are exempt from tax if held until maturity.\\n    Loan collateral: Bonds can be used as collateral for secured loans.\\n    Stay informed about the upcoming sovereign gold bond scheme 2025-26 to make the most of these\\n    beneﬁts.\\n    Next sovereign gold bond issue date: Important dates to remember', 'summary': '', 'pointers': \"1. Duration for which user plan to hold the investment?\\n2. User's convenience and safety.\\n3. Taxation.\\n4. Costs and Charges\"}\n",
      "\n",
      "Generated Answer:\n",
      "if you plan to hold the investment for a longer duration and want to avoid the risks associated with physical gold storage, then investing in sovereign gold bonds is a good option. however, if you plan to sell the investment before maturity or want to keep it as a short-term investment, then buying physical gold might be a better option.\n"
     ]
    }
   ],
   "source": [
    "# if __name__ == \"__main__\":\n",
    "    # Example question you want to test\n",
    "initial_state = {\n",
    "    \"question\": \"Should I invest in gold through Sovereign Gold Bonds or buy physical gold this year?\",\n",
    "    \"answer\": \"\",\n",
    "    \"context\": \"\",\n",
    "    \"summary\": \"\",\n",
    "    \"pointers\": \"\",\n",
    "    \"thread_id\": str(uuid.uuid4())\n",
    "}\n",
    "result = graph.invoke(initial_state, config = {\"configurable\": {\"thread_id\": \"1\"}})\n",
    "\n",
    "# Print the output (final state)\n",
    "print(\"Final State:\")\n",
    "print(result)\n",
    "print(\"\\nGenerated Answer:\")\n",
    "print(result.get(\"answer\"))\n",
    "\n",
    "    # # Run the graph with the initial state\n",
    "    # for event in graph.stream({\"messages\": [{\"role\": \"user\", \"content\": \"Should I invest in gold through Sovereign Gold Bonds or buy physical gold this year?\"}]}):\n",
    "    #     for value in event.values():\n",
    "    #         print(\"Assistant:\", value[\"messages\"][-1].content)"
   ]
  },
  {
   "cell_type": "code",
   "execution_count": 4,
   "metadata": {},
   "outputs": [],
   "source": [
    "import os\n",
    "os.environ[\"CUDA_VISIBLE_DEVICES\"] = \"0,1,2\""
   ]
  },
  {
   "cell_type": "code",
   "execution_count": 7,
   "metadata": {},
   "outputs": [
    {
     "name": "stdout",
     "output_type": "stream",
     "text": [
      "CUDA version: 12.4\n",
      "GPU Name: NVIDIA A2\n",
      "Inputs: tensor([[   1, 2378,  368,  506,  727]], device='cuda:0')\n"
     ]
    },
    {
     "name": "stderr",
     "output_type": "stream",
     "text": [
      "Loading checkpoint shards: 100%|██████████| 2/2 [00:05<00:00,  2.96s/it]\n",
      "Device set to use cuda:0\n"
     ]
    }
   ],
   "source": [
    "llm2 = get_mistral_llm()"
   ]
  },
  {
   "cell_type": "code",
   "execution_count": 6,
   "metadata": {},
   "outputs": [
    {
     "name": "stderr",
     "output_type": "stream",
     "text": [
      "Setting `pad_token_id` to `eos_token_id`:2 for open-end generation.\n"
     ]
    },
    {
     "name": "stdout",
     "output_type": "stream",
     "text": [
      "Should I invest in gold through Sovereign Gold Bonds or buy physical gold this year?\n",
      "Answer: It depends on your investment goals and risk tolerance. If you are looking for a low-risk investment option that provides stability and diversification to your portfolio, then investing in Sovereign Gold Bonds could be a good option. However, if you are looking for capital appreciation and want to own the actual metal, then buying physical gold may be more suitable. It is important to do thorough research and consider seeking advice from a financial advisor before making any investment decisions.\n"
     ]
    }
   ],
   "source": [
    "normal_answer = llm2.invoke('Should I invest in gold through Sovereign Gold Bonds or buy physical gold this year?')\n",
    "print(\"normal answer===========\",normal_answer)"
   ]
  },
  {
   "cell_type": "code",
   "execution_count": 8,
   "metadata": {},
   "outputs": [
    {
     "name": "stdout",
     "output_type": "stream",
     "text": [
      "Host: login3.aire.lee.alces.network\n",
      "CUDA available: True\n",
      "GPU: NVIDIA A2\n",
      "PyTorch: 2.5.1+cu124\n",
      "CUDA (PyTorch build): 12.4\n"
     ]
    }
   ],
   "source": []
  },
  {
   "cell_type": "code",
   "execution_count": null,
   "metadata": {},
   "outputs": [],
   "source": []
  }
 ],
 "metadata": {
  "kernelspec": {
   "display_name": "test_env",
   "language": "python",
   "name": "python3"
  },
  "language_info": {
   "codemirror_mode": {
    "name": "ipython",
    "version": 3
   },
   "file_extension": ".py",
   "mimetype": "text/x-python",
   "name": "python",
   "nbconvert_exporter": "python",
   "pygments_lexer": "ipython3",
   "version": "3.9.23"
  }
 },
 "nbformat": 4,
 "nbformat_minor": 2
}
